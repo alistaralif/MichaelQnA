{
 "cells": [
  {
   "cell_type": "code",
   "execution_count": 3,
   "metadata": {},
   "outputs": [],
   "source": [
    "import requests\n",
    "import pyaudio\n",
    "import speech_recognition as sr"
   ]
  },
  {
   "cell_type": "code",
   "execution_count": 26,
   "metadata": {},
   "outputs": [],
   "source": [
    "API_TOKEN = \"HuggingFaceToken\"\n",
    "\n",
    "# Uses \"distilbert-base-cased-distilled-squad\" model from HuggingFace\n",
    "API_URL = \"https://api-inference.huggingface.co/models/distilbert-base-cased-distilled-squad\"\n",
    "headers = {\"Authorization\": f\"Bearer {API_TOKEN}\"}\n",
    "\n",
    "def query(payload):\n",
    "\tresponse = requests.post(API_URL, headers=headers, json=payload)\n",
    "\treturn response.json()\n",
    "\n",
    "# Reads the FAQ and stores in 'context'\n",
    "text_file = open(\"guardian.txt\", \"r\")\n",
    "context = text_file.read()"
   ]
  },
  {
   "cell_type": "code",
   "execution_count": 27,
   "metadata": {},
   "outputs": [
    {
     "name": "stdout",
     "output_type": "stream",
     "text": [
      "Free Local Courier delivery: 1-4 business days\n",
      "Delivery charge ranges from SGD 10 to 20  depending on the country, 5-7 business days\n",
      "International customers are required to pay for custom duties in addition to shipping costs. We are not liable to make payment on behalf of our customers.\n",
      "You will receive a tracking number for your order once it has been processed, as a proof that we have shipped your order. We will not be liable for any lost or missing mail.\n",
      "Returns must be sent back within 12 days of the package delivery date and return costs shall be at the expense of the customer. Therefore, we highly recommend customers to refer to the measurements on our size charts to ensure a comfortable fit. Do contact us via our email at Nomcore.co@gmail.com or drop us a DM on our Instagram @_nomcore_ \n"
     ]
    }
   ],
   "source": [
    "print(context)"
   ]
  },
  {
   "cell_type": "code",
   "execution_count": 28,
   "metadata": {},
   "outputs": [
    {
     "name": "stdout",
     "output_type": "stream",
     "text": [
      "Speak...\n",
      "\n",
      "Question: how much is the delivery charge to my country\n",
      "\n",
      "Response: SGD 10 to 20\n"
     ]
    }
   ],
   "source": [
    "r = sr.Recognizer()\n",
    "my_mic = sr.Microphone(device_index=1) \n",
    "with my_mic as source:\n",
    "    print(\"Speak...\\n\")\n",
    "    r.adjust_for_ambient_noise(source)\n",
    "    audio = r.listen(source) # Take voice input from the microphone\n",
    "    \n",
    "data = r.recognize_google(audio, show_all=True) # To print voice into text\n",
    "question = data['alternative'][0]['transcript']\n",
    "\n",
    "output = query({\n",
    "\t\"inputs\": {\n",
    "\t\t\"question\": question + 'tell me in detail',\n",
    "\t\t\"context\": context\n",
    "\t},\n",
    "})\n",
    "\n",
    "# Print question and answer\n",
    "print(f\"Question: {question}\\n\")\n",
    "print(f\"Response: {output['answer']}\")\n"
   ]
  },
  {
   "cell_type": "code",
   "execution_count": null,
   "metadata": {},
   "outputs": [],
   "source": []
  }
 ],
 "metadata": {
  "kernelspec": {
   "display_name": "ai",
   "language": "python",
   "name": "python3"
  },
  "language_info": {
   "codemirror_mode": {
    "name": "ipython",
    "version": 3
   },
   "file_extension": ".py",
   "mimetype": "text/x-python",
   "name": "python",
   "nbconvert_exporter": "python",
   "pygments_lexer": "ipython3",
   "version": "3.7.16"
  },
  "orig_nbformat": 4,
  "vscode": {
   "interpreter": {
    "hash": "3933cff63e072a31e61627a23585d48807f62fd99dd5aacefe5875040d70e2dd"
   }
  }
 },
 "nbformat": 4,
 "nbformat_minor": 2
}
